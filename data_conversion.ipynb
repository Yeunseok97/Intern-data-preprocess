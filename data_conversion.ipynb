{
 "cells": [
  {
   "cell_type": "code",
   "execution_count": 29,
   "id": "0d4f9672-8ba6-4b55-8439-918b5b2913a1",
   "metadata": {},
   "outputs": [
    {
     "name": "stderr",
     "output_type": "stream",
     "text": [
      "100%|███████████████████████████████████████| 167/167 [00:00<00:00, 3160.97it/s]\n"
     ]
    }
   ],
   "source": [
    "# 경훈님 데이터 변환작업 xml -> txt 및 클래스 변환\n",
    "\n",
    "import os\n",
    "import xml.etree.ElementTree as ET\n",
    "import glob\n",
    "from tqdm import tqdm\n",
    "\n",
    "\n",
    "def xml_to_yolo_bbox(bbox, w, h):\n",
    "    x_center = ((bbox[2] + bbox[0]) / 2) / w\n",
    "    y_center = ((bbox[3] + bbox[1]) / 2) / h\n",
    "    width = (bbox[2] - bbox[0]) / w\n",
    "    height = (bbox[3] - bbox[1]) / h\n",
    "    return [x_center, y_center, width, height]\n",
    "\n",
    "def parsing(annot_path, label_path):\n",
    "    classes = [\"Text_Table2\", \"Text_Table1\", \"Info\", \"Table\"]\n",
    "\n",
    "    files = glob.glob(os.path.join(annot_path, '*.xml'))\n",
    "    for fil in tqdm(files):\n",
    "        basename = os.path.basename(fil)\n",
    "        filename = os.path.splitext(basename)[0]\n",
    "        result = []\n",
    "\n",
    "        tree = ET.parse(fil)\n",
    "        root = tree.getroot()\n",
    "        width = int(root.find(\"size\").find(\"width\").text)\n",
    "        height = int(root.find(\"size\").find(\"height\").text)\n",
    "        \n",
    "        for obj in root.findall('object'):\n",
    "            label = obj.find(\"name\").text\n",
    "            \n",
    "            # 예외 처리: Table_Text2 -> Text_Table2, Table_Text1 -> Text_Table1\n",
    "            if label == \"Table_Text2\":\n",
    "                label = \"Text_Table2\"\n",
    "            elif label == \"Table_Text1\":\n",
    "                label = \"Text_Table1\"\n",
    "            \n",
    "\n",
    "            if label in classes:\n",
    "                index = classes.index(label)\n",
    "                pil_bbox = [int(x.text) for x in obj.find(\"bndbox\")]\n",
    "                yolo_bbox = xml_to_yolo_bbox(pil_bbox, width, height)\n",
    "                bbox_string = \" \".join([str(x) for x in yolo_bbox])\n",
    "                result.append(f\"{index} {bbox_string}\")\n",
    "            else:\n",
    "                print(f\"Unknown label '{label}' found in {filename}\")\n",
    "\n",
    "        if result:\n",
    "            with open(os.path.join(label_path, f\"{filename}.txt\"), \"w\", encoding=\"utf-8\") as f:\n",
    "                f.write(\"\\n\".join(result))\n",
    "\n",
    "# 파일 경로 설정\n",
    "raw_path = \"/home/selectstar\"\n",
    "xml_path = os.path.join(raw_path, \"xml_label_data\")\n",
    "txt_path = os.path.join(raw_path, \"xml_to_txt\")\n",
    "\n",
    "# 함수 호출\n",
    "parsing(xml_path, txt_path)"
   ]
  },
  {
   "cell_type": "code",
   "execution_count": 30,
   "id": "ff1fcb7c-68ed-483a-b793-ef30669bd64c",
   "metadata": {},
   "outputs": [
    {
     "name": "stdout",
     "output_type": "stream",
     "text": [
      "변환 완료.\n"
     ]
    }
   ],
   "source": [
    "# 데이터 변환작업 클래스 순서 조정\n",
    "import os\n",
    "\n",
    "raw_path = \"/home/selectstar\"\n",
    "xml_label_data_path = os.path.join(raw_path, \"xml_label_data\")\n",
    "txt_path = os.path.join(raw_path, \"xml_to_txt\")\n",
    "\n",
    "# 클래스 번호 변환 매핑\n",
    "class_mapping = {0: 1, 1: 2, 2: 0, 3:3}\n",
    "\n",
    "# 함수: 라벨링 파일 변환\n",
    "def convert_labeling_file(input_file, output_file, class_mapping):\n",
    "    with open(input_file, 'r') as f:\n",
    "        lines = f.readlines()\n",
    "    \n",
    "    converted_lines = []\n",
    "    for line in lines:\n",
    "        parts = line.strip().split()\n",
    "        if len(parts) > 0 and parts[0].isdigit():\n",
    "            original_class = int(parts[0])\n",
    "            if original_class in class_mapping:\n",
    "                converted_class = class_mapping[original_class]\n",
    "                parts[0] = str(converted_class)\n",
    "                converted_lines.append(' '.join(parts) + '\\n')\n",
    "        else:\n",
    "            converted_lines.append(line)  # 클래스 번호가 아닌 줄은 그대로 유지\n",
    "    \n",
    "    with open(output_file, 'w') as f:\n",
    "        f.writelines(converted_lines)\n",
    "\n",
    "# 폴더 내 라벨링 파일 변환\n",
    "def convert_labeling_files_in_folder(input_folder, output_folder, class_mapping):\n",
    "    if not os.path.exists(output_folder):\n",
    "        os.makedirs(output_folder)\n",
    "    \n",
    "    for filename in os.listdir(input_folder):\n",
    "        if filename.endswith(\".txt\"):\n",
    "            input_file = os.path.join(input_folder, filename)\n",
    "            output_file = os.path.join(output_folder, filename)\n",
    "            convert_labeling_file(input_file, output_file, class_mapping)\n",
    "\n",
    "# 라벨링 파일 변환 수행\n",
    "convert_labeling_files_in_folder(xml_label_data_path, txt_path, class_mapping)\n",
    "\n",
    "print(\"변환 완료.\")\n"
   ]
  },
  {
   "cell_type": "code",
   "execution_count": 20,
   "id": "44f55623-f93c-4dae-8d45-f0aa67780cf0",
   "metadata": {},
   "outputs": [
    {
     "data": {
      "text/plain": [
       "'/home/selectstar'"
      ]
     },
     "execution_count": 20,
     "metadata": {},
     "output_type": "execute_result"
    }
   ],
   "source": [
    "pwd"
   ]
  },
  {
   "cell_type": "code",
   "execution_count": 57,
   "id": "ebbdd15b-2adf-4a6c-b635-9ebb82a5e3ed",
   "metadata": {},
   "outputs": [
    {
     "name": "stdout",
     "output_type": "stream",
     "text": [
      "폴더 'Val_image'에 있는 파일 개수: 67\n",
      "폴더 'Val_labels'에 있는 파일 개수: 68\n",
      "폴더 'Train_image'에 있는 파일 개수: 550\n",
      "폴더 'Train_labels'에 있는 파일 개수: 551\n",
      "폴더 'Test_data'에 있는 파일 개수: 0\n"
     ]
    }
   ],
   "source": [
    "# train 전 파일 갯수 인\n",
    "import os\n",
    "\n",
    "# 경로 설정\n",
    "folder_path1 = \"/home/selectstar/yolov5/dataset/Table_classification/valid/images\"\n",
    "folder_path2 = \"/home/selectstar/yolov5/dataset/Table_classification/valid/labels\"\n",
    "folder_path3 = \"/home/selectstar/yolov5/dataset/Table_classification/train/images\"\n",
    "folder_path4 = \"/home/selectstar/yolov5/dataset/Table_classification/train/labels\"\n",
    "folder_path5 = \"/home/selectstar/yolov5/dataset/Table_classification/test\"\n",
    "\n",
    "\n",
    "# 해당 경로의 파일 개수 확인\n",
    "file_count1 = len([name for name in os.listdir(folder_path1) if os.path.isfile(os.path.join(folder_path1, name))])\n",
    "file_count2 = len([name for name in os.listdir(folder_path2) if os.path.isfile(os.path.join(folder_path2, name))])\n",
    "file_count3 = len([name for name in os.listdir(folder_path3) if os.path.isfile(os.path.join(folder_path3, name))])\n",
    "file_count4 = len([name for name in os.listdir(folder_path4) if os.path.isfile(os.path.join(folder_path4, name))])\n",
    "file_count5 = len([name for name in os.listdir(folder_path5) if os.path.isfile(os.path.join(folder_path5, name))])\n",
    "\n",
    "\n",
    "print(f\"폴더 'Val_image'에 있는 파일 개수: {file_count1}\")\n",
    "print(f\"폴더 'Val_labels'에 있는 파일 개수: {file_count2}\")\n",
    "print(f\"폴더 'Train_image'에 있는 파일 개수: {file_count3}\")\n",
    "print(f\"폴더 'Train_labels'에 있는 파일 개수: {file_count4}\")\n",
    "print(f\"폴더 'Test_data'에 있는 파일 개수: {file_count5}\")"
   ]
  },
  {
   "cell_type": "code",
   "execution_count": null,
   "id": "4756d8eb-145d-4471-918e-7f978d880684",
   "metadata": {},
   "outputs": [],
   "source": []
  },
  {
   "cell_type": "code",
   "execution_count": 64,
   "id": "04fa0f06-2880-4fcf-adbb-d6910e20bbfb",
   "metadata": {},
   "outputs": [
    {
     "name": "stdout",
     "output_type": "stream",
     "text": [
      "이미지에서 누락된 파일: set()\n",
      "라벨에서 누락된 파일: {'국민제안규정 조문별개정이유서_22_', '긴급재난지원금 사업지침(200508, 2차)_1_', '210610 2021년 자전거 이용활성화 사진 UCC 공모전 계획 v3_1_', '제7기 중분위 위촉직 민간위원 위촉계획 (1)_1_', '지방자치단체 출자ㆍ출연 기관의 운영에 관한 법률 일부개정법률안_5_', '민원서비스 종합평가 컨설팅 계획 (1)_1_', '붙임1_전자정부법 시행령 일부개정령_43_', '주민참여예산제 연찬회 계획 및 우수사례 제출 양식_5_', '지방공공기관 부채중점관리 세부추진 계획(통보용)_6_', '시나리오 정의서_지방재정(31종)_55_', 'crop2', '시나리오 정의서_지방재정(31종)_57_', '국민제안규정 전부개정령안_22_', '데이터기반행정법 시행령 제정안_5_', '221013 전국새마을지도자대회(장관님 보고용)-ver3-사진추가 (2)_1_', '임신지원 서비스 통합제공 추진계획_1_', '새마을금고법 하위법령 개정 계획(결재용)_4_', '지방공공기관 부채중점관리 세부추진 계획(통보용)_1_', '고양시 덕양구 업무매뉴얼 및 인계인수서 작성 계획_1_', '여권사실증명 무인민원발급서비스 시행 협조 요청(외교부)_3_', '개최 계획(안))_2_', '국민 제안 규정 일부개정령안 _16_', '국민 제안 규정 일부개정령안 _1_', '긴급재난지원금 사업지침(200508, 2차)_4_', '시나리오 정의서_지방재정(31종)_6_', '소방공무원의 국가직 전환 관련 제도 정비를 위한 28개 대통령령의 일부개정에 관한 대통령령안(심사의뢰)_53_', '소방공무원의 국가직 전환 관련 제도 정비를 위한 28개 대통령령의 일부개정에 관한 대통령령안(심사의뢰)_146_', '공무원제안규정 전부개정령안_1_', '지능형 초연결망 선도시범사업_공모안내서_1_', '국민이 알면 편리한 민원정보서비스  업무협약식 계획(안)_4_', '정책결정 사전점검표_29_', '소방공무원의 국가직 전환 관련 제도 정비를 위한 28개 대통령령의 일부개정에 관한 대통령령안(심사의뢰)_67_', '민간 개방화장실 남녀분리 지원사업 추진계획_1_', '새마을금고법 하위법령 개정 계획(결재용)_22_', '제11회 의병의 날 기념행사 기본계획(안)_1_', '지능형 초연결망 선도시범사업_공모안내서_47_', '긴급재난지원금 사업지침(1차)_1_', '국민 제안 규정 일부개정령안 _5_', '긴급재난지원금 사업지침(1차)_33_', '행정안전부 디지털플랫폼정부 추진계획_1_', '외국인주민 인식개선 60초 영상 공모전 추진계획(안)_1_', '공무원 제안 규정 일부개정령안 _14_', '공무원 제안 규정 일부개정령안 _5_', '공무원 제안 규정 일부개정령안 _11_', '붙임1. 정보시스템 운영 성과관리 지침(행정자치부 고시 제2017-10호， 2017.3.28.)_7_', '국민 제안 규정 일부개정령안 _9_', '데이터기반행정의 현안과 발전방향세미나 개최계획_1_', '지방자치단체 출자ㆍ출연 기관의 운영에 관한 법률 일부개정법률안_19_', '지방공공기관 부채중점관리 세부추진 계획(안)_8_', '공무원 제안 규정 일부개정령안 _1_', '시나리오 정의서_지방재정(31종)_16_', '지능형 초연결망 선도시범사업_공모안내서_46_', '제7기 생활공감 모니터단 구성 계획_1_', '붙임1 초광역협력 지원전략_1_', '행정안전부 디지털플랫폼정부 추진계획_2_', '긴급재난지원금 사업지침(1차)_4_', '데이터기반행정법 시행규칙 제정안_3_', '긴급재난지원금 사업지침(200508, 2차)_34_', '공공분야 갑질 근절 종합대책(최종)_1_', '소방공무원의 국가직 전환 관련 제도 정비를 위한 28개 대통령령의 일부개정에 관한 대통령령안(심사의뢰)_111_', '공무원제안규정 전부개정령안_4_'} \n",
      "\n"
     ]
    }
   ],
   "source": [
    "#파일 이름 안맞는거 찾기 ㅎㅎ \n",
    "import os\n",
    "\n",
    "folder_path1 = \"/home/selectstar/yolov5/dataset/File_classification/test/images\"\n",
    "folder_path2 = \"/home/selectstar/yolov5/runs/detect/exp\"\n",
    "\n",
    "# 해당 경로에서 파일 이름 추출 (확장자 제외)\n",
    "def extract_filenames(folder_path):\n",
    "    filenames = []\n",
    "    for file in os.listdir(folder_path):\n",
    "        if os.path.isfile(os.path.join(folder_path, file)):\n",
    "            # 파일 이름에서 확장자 제외한 부분 추출\n",
    "            filename = os.path.splitext(file)[0]\n",
    "            filenames.append(filename)\n",
    "    return filenames\n",
    "\n",
    "# 각 경로에서 파일 이름 목록 추출\n",
    "filenames1 = extract_filenames(folder_path1)\n",
    "filenames2 = extract_filenames(folder_path2)\n",
    "\n",
    "# 두 경로에서 짝이 맞지 않는 파일 찾기\n",
    "missing_in_folder1 = set(filenames2) - set(filenames1)\n",
    "missing_in_folder2 = set(filenames1) - set(filenames2)\n",
    "\n",
    "print(\"이미지에서 누락된 파일:\", missing_in_folder1)\n",
    "print(\"라벨에서 누락된 파일:\", missing_in_folder2,\"\\n\")"
   ]
  },
  {
   "cell_type": "code",
   "execution_count": 58,
   "id": "56b09a73-3691-49d7-afcd-11f150284669",
   "metadata": {},
   "outputs": [
    {
     "data": {
      "text/plain": [
       "'/home/selectstar'"
      ]
     },
     "execution_count": 58,
     "metadata": {},
     "output_type": "execute_result"
    }
   ],
   "source": [
    "pwd"
   ]
  },
  {
   "cell_type": "code",
   "execution_count": null,
   "id": "3ef1dee1-1fce-4ff1-ab69-733b4dbf2578",
   "metadata": {},
   "outputs": [],
   "source": []
  }
 ],
 "metadata": {
  "kernelspec": {
   "display_name": "Python 3 (ipykernel)",
   "language": "python",
   "name": "python3"
  },
  "language_info": {
   "codemirror_mode": {
    "name": "ipython",
    "version": 3
   },
   "file_extension": ".py",
   "mimetype": "text/x-python",
   "name": "python",
   "nbconvert_exporter": "python",
   "pygments_lexer": "ipython3",
   "version": "3.10.13"
  }
 },
 "nbformat": 4,
 "nbformat_minor": 5
}
